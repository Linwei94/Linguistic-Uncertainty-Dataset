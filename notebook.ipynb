{
 "cells": [
  {
   "cell_type": "code",
   "execution_count": 1,
   "metadata": {},
   "outputs": [
    {
     "data": {
      "text/plain": [
       "Index(['Category', 'Domain', 'Sentence', 'HedgeItem', 'Source'], dtype='object')"
      ]
     },
     "execution_count": 1,
     "metadata": {},
     "output_type": "execute_result"
    }
   ],
   "source": [
    "import pandas as pd\n",
    "\n",
    "df = pd.read_csv('sentences.csv')\n",
    "df.keys()\n"
   ]
  },
  {
   "cell_type": "code",
   "execution_count": 2,
   "metadata": {},
   "outputs": [
    {
     "data": {
      "text/plain": [
       "28"
      ]
     },
     "execution_count": 2,
     "metadata": {},
     "output_type": "execute_result"
    }
   ],
   "source": [
    "df['Category'].nunique()"
   ]
  },
  {
   "cell_type": "code",
   "execution_count": 3,
   "metadata": {},
   "outputs": [
    {
     "data": {
      "text/plain": [
       "Category\n",
       "Hedging Adverbs                501\n",
       "Approximate Numerals           500\n",
       "Uncertainty Frame + Modal      500\n",
       "Temporal-Frequency Hedges      500\n",
       "Tag-question Hedges            500\n",
       "Quantifiers                    500\n",
       "Pragmatic Particles            500\n",
       "Parentheticals                 500\n",
       "Negation Minimisers            500\n",
       "Modals                         500\n",
       "Attribution Frames             500\n",
       "Metadiscourse Stance Frames    500\n",
       "First-person Tentativeness     500\n",
       "Epistemic Interrogatives       500\n",
       "Doubt Opener + Cognitive       500\n",
       "Confidence Disclaimer          500\n",
       "Conditional Clauses            500\n",
       "Concessive Hedging             500\n",
       "Comparatives                   500\n",
       "Cognitive Verbs                500\n",
       "Emphatic Downtoners            499\n",
       "Passive Voice                  499\n",
       "Hedging Adjectives             498\n",
       "Nouns                          375\n",
       "Hedging Nouns                  125\n",
       "Passenger Voice                  1\n",
       "Emphatic Downtayers              1\n",
       "Hed boat Adjectives              1\n",
       "Name: count, dtype: int64"
      ]
     },
     "execution_count": 3,
     "metadata": {},
     "output_type": "execute_result"
    }
   ],
   "source": [
    "df['Category'].value_counts()"
   ]
  },
  {
   "cell_type": "code",
   "execution_count": 12,
   "metadata": {},
   "outputs": [],
   "source": [
    "# Create a DataFrame with unique HedgeItem values by Category and Source, and their counts\n",
    "category_source_hedge_data = []\n",
    "\n",
    "for (category), group in df.groupby(['Category']):\n",
    "    hedge_items = group['HedgeItem'].str.lower().unique()\n",
    "    category_source_hedge_data.append({\n",
    "        'Category': category,\n",
    "        'Unique_HedgeItems': hedge_items,\n",
    "        'Count': len(hedge_items)\n",
    "    })\n",
    "\n",
    "# Convert to DataFrame and display\n",
    "result_df = pd.DataFrame(category_source_hedge_data)\n",
    "result_df.to_csv('category_source_hedge_data.csv', index=False)\n"
   ]
  },
  {
   "cell_type": "code",
   "execution_count": null,
   "metadata": {},
   "outputs": [],
   "source": []
  }
 ],
 "metadata": {
  "kernelspec": {
   "display_name": "Python 3",
   "language": "python",
   "name": "python3"
  },
  "language_info": {
   "codemirror_mode": {
    "name": "ipython",
    "version": 3
   },
   "file_extension": ".py",
   "mimetype": "text/x-python",
   "name": "python",
   "nbconvert_exporter": "python",
   "pygments_lexer": "ipython3",
   "version": "3.10.12"
  }
 },
 "nbformat": 4,
 "nbformat_minor": 2
}
