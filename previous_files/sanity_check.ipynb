{
 "cells": [
  {
   "cell_type": "code",
   "execution_count": null,
   "metadata": {},
   "outputs": [
    {
     "name": "stderr",
     "output_type": "stream",
     "text": [
      "/tmp/ipykernel_1307982/2342929479.py:76: FutureWarning: DataFrame.applymap has been deprecated. Use DataFrame.map instead.\n",
      "  df_fixed = df.applymap(fix_garbled_text)\n"
     ]
    }
   ],
   "source": [
    "import pandas as pd\n",
    "import chardet\n",
    "\n",
    "# 1. 检测文件编码\n",
    "file_path = 'linguistic uncertainty dataset - SimpleQA.csv'\n",
    "with open(file_path, 'rb') as f:\n",
    "    result = chardet.detect(f.read())\n",
    "detected_encoding = result['encoding']\n",
    "\n",
    "# 2. 使用检测到的编码重新加载文件\n",
    "df = pd.read_csv(file_path, encoding=detected_encoding)\n",
    "\n",
    "# 3. 定义常见乱码字符的替换映射\n",
    "replacements = {\n",
    "    '√º': 'ü',\n",
    "    '≈ë': 'ë',\n",
    "    '√©': 'é',\n",
    "    '√°': 'á',\n",
    "    '√≠': 'í',\n",
    "    '‚Äì': '–',\n",
    "    '‚Ä¶': '…',\n",
    "    '√§': 'ä',\n",
    "    '√∂': 'ö',\n",
    "    '√ü': 'ü',\n",
    "    '√á': 'á',\n",
    "    '√É': 'É',\n",
    "    '√Ñ': 'Ñ',\n",
    "    '√±': 'ñ',\n",
    "    '√ç': 'ç',\n",
    "    '√†': '†',\n",
    "    '√∑': '∑',\n",
    "    '√≥': '≥',\n",
    "    '√≤': '≤',\n",
    "    '√∞': '∞',\n",
    "    '√´': 'ó',\n",
    "    '√¨': 'ë',\n",
    "    '√Æ': 'Æ',\n",
    "    '√Ω': 'Ω',\n",
    "    '√∫': '∫',\n",
    "    '√π': 'π',\n",
    "    '√∏': '∏',\n",
    "    '√∂': '∂',\n",
    "    '√¢': '¢',\n",
    "    '√£': '£',\n",
    "    '√™': '™',\n",
    "    '√®': '®',\n",
    "    '√†√∂': '†∂',  # 组合乱码\n",
    "    '√â': 'â',\n",
    "    '√ê': 'ê',\n",
    "    '√î': 'î',\n",
    "    '√ô': 'ô',\n",
    "    '√û': 'û',\n",
    "    '≈': '≈',\n",
    "    '√': '',  # 残留符号，如果前面都匹配完了剩这个就清除\n",
    "}\n",
    "replacements.update({\n",
    "    '‚Äôs': '’s',   # possessive ’s\n",
    "    '‚Äù': '”',     # right double quote\n",
    "    '‚Äú': '“',     # left double quote\n",
    "    '‚Äò': '‘',     # left single quote\n",
    "    '‚Äô': '’',     # right single quote\n",
    "    '‚Ä€”': '—',    # em dash\n",
    "    '‚Ä¢': '•',     # bullet\n",
    "    '‚Ä¶': '…',     # ellipsis\n",
    "})\n",
    "\n",
    "\n",
    "# 4. 修复文本的函数\n",
    "def fix_garbled_text(text):\n",
    "    if isinstance(text, str):\n",
    "        for garbled, correct in replacements.items():\n",
    "            text = text.replace(garbled, correct)\n",
    "    return text\n",
    "\n",
    "# 5. 应用修复到整个 DataFrame\n",
    "df_fixed = df.applymap(fix_garbled_text)\n",
    "\n",
    "# 6. 保存修复后的文件（可选）\n",
    "df_fixed.to_csv('fixed_400sentences.csv', index=False)\n"
   ]
  },
  {
   "cell_type": "code",
   "execution_count": 15,
   "metadata": {},
   "outputs": [],
   "source": [
    "import pandas\n",
    "df = pandas.read_csv('4LLM_merge.csv')"
   ]
  },
  {
   "cell_type": "code",
   "execution_count": 16,
   "metadata": {},
   "outputs": [
    {
     "data": {
      "text/html": [
       "<div>\n",
       "<style scoped>\n",
       "    .dataframe tbody tr th:only-of-type {\n",
       "        vertical-align: middle;\n",
       "    }\n",
       "\n",
       "    .dataframe tbody tr th {\n",
       "        vertical-align: top;\n",
       "    }\n",
       "\n",
       "    .dataframe thead th {\n",
       "        text-align: right;\n",
       "    }\n",
       "</style>\n",
       "<table border=\"1\" class=\"dataframe\">\n",
       "  <thead>\n",
       "    <tr style=\"text-align: right;\">\n",
       "      <th></th>\n",
       "      <th>orig_row</th>\n",
       "      <th>level</th>\n",
       "      <th>sentence</th>\n",
       "      <th>metadata</th>\n",
       "      <th>topic</th>\n",
       "      <th>answer_type</th>\n",
       "      <th>question</th>\n",
       "      <th>answer</th>\n",
       "      <th>Source</th>\n",
       "    </tr>\n",
       "  </thead>\n",
       "  <tbody>\n",
       "    <tr>\n",
       "      <th>14024</th>\n",
       "      <td>116</td>\n",
       "      <td>low</td>\n",
       "      <td>I have a vague recollection that the number is...</td>\n",
       "      <td>{'topic': 'Politics', 'answer_type': 'Number',...</td>\n",
       "      <td>Politics</td>\n",
       "      <td>Number</td>\n",
       "      <td>How many children did Jos√© Figueres Ferrer ha...</td>\n",
       "      <td>Two.</td>\n",
       "      <td>Gemini</td>\n",
       "    </tr>\n",
       "  </tbody>\n",
       "</table>\n",
       "</div>"
      ],
      "text/plain": [
       "       orig_row level                                           sentence  \\\n",
       "14024       116   low  I have a vague recollection that the number is...   \n",
       "\n",
       "                                                metadata     topic  \\\n",
       "14024  {'topic': 'Politics', 'answer_type': 'Number',...  Politics   \n",
       "\n",
       "      answer_type                                           question answer  \\\n",
       "14024      Number  How many children did Jos√© Figueres Ferrer ha...   Two.   \n",
       "\n",
       "       Source  \n",
       "14024  Gemini  "
      ]
     },
     "execution_count": 16,
     "metadata": {},
     "output_type": "execute_result"
    }
   ],
   "source": [
    "# read 14024 row\n",
    "df.iloc[14024:14025]"
   ]
  },
  {
   "cell_type": "code",
   "execution_count": 7,
   "metadata": {},
   "outputs": [
    {
     "data": {
      "text/html": [
       "<div>\n",
       "<style scoped>\n",
       "    .dataframe tbody tr th:only-of-type {\n",
       "        vertical-align: middle;\n",
       "    }\n",
       "\n",
       "    .dataframe tbody tr th {\n",
       "        vertical-align: top;\n",
       "    }\n",
       "\n",
       "    .dataframe thead th {\n",
       "        text-align: right;\n",
       "    }\n",
       "</style>\n",
       "<table border=\"1\" class=\"dataframe\">\n",
       "  <thead>\n",
       "    <tr style=\"text-align: right;\">\n",
       "      <th></th>\n",
       "      <th>orig_row</th>\n",
       "      <th>level</th>\n",
       "      <th>sentence</th>\n",
       "      <th>metadata</th>\n",
       "      <th>topic</th>\n",
       "      <th>answer_type</th>\n",
       "      <th>question</th>\n",
       "      <th>answer</th>\n",
       "      <th>Source</th>\n",
       "    </tr>\n",
       "  </thead>\n",
       "  <tbody>\n",
       "    <tr>\n",
       "      <th>0</th>\n",
       "      <td>0</td>\n",
       "      <td>high</td>\n",
       "      <td>I can definitively state that the paper was pu...</td>\n",
       "      <td>{'topic': 'Science and technology', 'answer_ty...</td>\n",
       "      <td>Science and technology</td>\n",
       "      <td>Date</td>\n",
       "      <td>What's the month, day, and year of the online ...</td>\n",
       "      <td>5th September, 2011</td>\n",
       "      <td>Claude</td>\n",
       "    </tr>\n",
       "    <tr>\n",
       "      <th>1</th>\n",
       "      <td>0</td>\n",
       "      <td>high</td>\n",
       "      <td>Without any doubt, the online publication date...</td>\n",
       "      <td>{'topic': 'Science and technology', 'answer_ty...</td>\n",
       "      <td>Science and technology</td>\n",
       "      <td>Date</td>\n",
       "      <td>What's the month, day, and year of the online ...</td>\n",
       "      <td>5th September, 2011</td>\n",
       "      <td>Claude</td>\n",
       "    </tr>\n",
       "    <tr>\n",
       "      <th>2</th>\n",
       "      <td>0</td>\n",
       "      <td>high</td>\n",
       "      <td>The records clearly show the paper was publish...</td>\n",
       "      <td>{'topic': 'Science and technology', 'answer_ty...</td>\n",
       "      <td>Science and technology</td>\n",
       "      <td>Date</td>\n",
       "      <td>What's the month, day, and year of the online ...</td>\n",
       "      <td>5th September, 2011</td>\n",
       "      <td>Claude</td>\n",
       "    </tr>\n",
       "    <tr>\n",
       "      <th>3</th>\n",
       "      <td>0</td>\n",
       "      <td>high</td>\n",
       "      <td>I am absolutely certain the online publication...</td>\n",
       "      <td>{'topic': 'Science and technology', 'answer_ty...</td>\n",
       "      <td>Science and technology</td>\n",
       "      <td>Date</td>\n",
       "      <td>What's the month, day, and year of the online ...</td>\n",
       "      <td>5th September, 2011</td>\n",
       "      <td>Claude</td>\n",
       "    </tr>\n",
       "    <tr>\n",
       "      <th>4</th>\n",
       "      <td>0</td>\n",
       "      <td>high</td>\n",
       "      <td>There is no question that the paper was publis...</td>\n",
       "      <td>{'topic': 'Science and technology', 'answer_ty...</td>\n",
       "      <td>Science and technology</td>\n",
       "      <td>Date</td>\n",
       "      <td>What's the month, day, and year of the online ...</td>\n",
       "      <td>5th September, 2011</td>\n",
       "      <td>Claude</td>\n",
       "    </tr>\n",
       "  </tbody>\n",
       "</table>\n",
       "</div>"
      ],
      "text/plain": [
       "   orig_row level                                           sentence  \\\n",
       "0         0  high  I can definitively state that the paper was pu...   \n",
       "1         0  high  Without any doubt, the online publication date...   \n",
       "2         0  high  The records clearly show the paper was publish...   \n",
       "3         0  high  I am absolutely certain the online publication...   \n",
       "4         0  high  There is no question that the paper was publis...   \n",
       "\n",
       "                                            metadata                   topic  \\\n",
       "0  {'topic': 'Science and technology', 'answer_ty...  Science and technology   \n",
       "1  {'topic': 'Science and technology', 'answer_ty...  Science and technology   \n",
       "2  {'topic': 'Science and technology', 'answer_ty...  Science and technology   \n",
       "3  {'topic': 'Science and technology', 'answer_ty...  Science and technology   \n",
       "4  {'topic': 'Science and technology', 'answer_ty...  Science and technology   \n",
       "\n",
       "  answer_type                                           question  \\\n",
       "0        Date  What's the month, day, and year of the online ...   \n",
       "1        Date  What's the month, day, and year of the online ...   \n",
       "2        Date  What's the month, day, and year of the online ...   \n",
       "3        Date  What's the month, day, and year of the online ...   \n",
       "4        Date  What's the month, day, and year of the online ...   \n",
       "\n",
       "                answer  Source  \n",
       "0  5th September, 2011  Claude  \n",
       "1  5th September, 2011  Claude  \n",
       "2  5th September, 2011  Claude  \n",
       "3  5th September, 2011  Claude  \n",
       "4  5th September, 2011  Claude  "
      ]
     },
     "execution_count": 7,
     "metadata": {},
     "output_type": "execute_result"
    }
   ],
   "source": [
    "df.head()"
   ]
  },
  {
   "cell_type": "code",
   "execution_count": 11,
   "metadata": {},
   "outputs": [
    {
     "data": {
      "text/plain": [
       "np.int64(0)"
      ]
     },
     "execution_count": 11,
     "metadata": {},
     "output_type": "execute_result"
    }
   ],
   "source": [
    "# unique count for each unique value in the 'orig_row' column\n",
    "(df['orig_row'].value_counts() != 120).sum()"
   ]
  },
  {
   "cell_type": "code",
   "execution_count": 12,
   "metadata": {},
   "outputs": [
    {
     "data": {
      "text/plain": [
       "answer_type\n",
       "Date      15720\n",
       "Person    11520\n",
       "Other      8640\n",
       "Number     7320\n",
       "Place      4800\n",
       "Name: count, dtype: int64"
      ]
     },
     "execution_count": 12,
     "metadata": {},
     "output_type": "execute_result"
    }
   ],
   "source": [
    "df['answer_type'].value_counts()"
   ]
  },
  {
   "cell_type": "code",
   "execution_count": 13,
   "metadata": {},
   "outputs": [
    {
     "data": {
      "text/plain": [
       "np.int64(48000)"
      ]
     },
     "execution_count": 13,
     "metadata": {},
     "output_type": "execute_result"
    }
   ],
   "source": [
    "df['topic'].value_counts().sum()"
   ]
  }
 ],
 "metadata": {
  "kernelspec": {
   "display_name": "llm",
   "language": "python",
   "name": "python3"
  },
  "language_info": {
   "codemirror_mode": {
    "name": "ipython",
    "version": 3
   },
   "file_extension": ".py",
   "mimetype": "text/x-python",
   "name": "python",
   "nbconvert_exporter": "python",
   "pygments_lexer": "ipython3",
   "version": "3.13.0"
  }
 },
 "nbformat": 4,
 "nbformat_minor": 2
}
