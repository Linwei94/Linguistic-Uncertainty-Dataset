{
 "cells": [
  {
   "cell_type": "code",
   "execution_count": 1,
   "metadata": {},
   "outputs": [
    {
     "data": {
      "text/plain": [
       "Index(['metadata', 'topic', 'answer_type', 'problem', 'answer'], dtype='object')"
      ]
     },
     "execution_count": 1,
     "metadata": {},
     "output_type": "execute_result"
    }
   ],
   "source": [
    "import pandas as pd\n",
    "\n",
    "df = pd.read_csv('generated_text.csv')\n",
    "df.keys()\n"
   ]
  },
  {
   "cell_type": "code",
   "execution_count": 1,
   "metadata": {},
   "outputs": [
    {
     "data": {
      "text/plain": [
       "Index(['Category', 'Domain', 'Sentence', 'HedgeItem', 'Source'], dtype='object')"
      ]
     },
     "execution_count": 1,
     "metadata": {},
     "output_type": "execute_result"
    }
   ],
   "source": [
    "import pandas as pd\n",
    "\n",
    "df = pd.read_csv('sentences.csv')\n",
    "df.keys()\n"
   ]
  },
  {
   "cell_type": "code",
   "execution_count": 2,
   "metadata": {},
   "outputs": [
    {
     "data": {
      "text/plain": [
       "28"
      ]
     },
     "execution_count": 2,
     "metadata": {},
     "output_type": "execute_result"
    }
   ],
   "source": [
    "df['Category'].nunique()"
   ]
  },
  {
   "cell_type": "code",
   "execution_count": 3,
   "metadata": {},
   "outputs": [
    {
     "data": {
      "text/plain": [
       "Category\n",
       "Hedging Adverbs                501\n",
       "Approximate Numerals           500\n",
       "Uncertainty Frame + Modal      500\n",
       "Temporal-Frequency Hedges      500\n",
       "Tag-question Hedges            500\n",
       "Quantifiers                    500\n",
       "Pragmatic Particles            500\n",
       "Parentheticals                 500\n",
       "Negation Minimisers            500\n",
       "Modals                         500\n",
       "Attribution Frames             500\n",
       "Metadiscourse Stance Frames    500\n",
       "First-person Tentativeness     500\n",
       "Epistemic Interrogatives       500\n",
       "Doubt Opener + Cognitive       500\n",
       "Confidence Disclaimer          500\n",
       "Conditional Clauses            500\n",
       "Concessive Hedging             500\n",
       "Comparatives                   500\n",
       "Cognitive Verbs                500\n",
       "Emphatic Downtoners            499\n",
       "Passive Voice                  499\n",
       "Hedging Adjectives             498\n",
       "Nouns                          375\n",
       "Hedging Nouns                  125\n",
       "Passenger Voice                  1\n",
       "Emphatic Downtayers              1\n",
       "Hed boat Adjectives              1\n",
       "Name: count, dtype: int64"
      ]
     },
     "execution_count": 3,
     "metadata": {},
     "output_type": "execute_result"
    }
   ],
   "source": [
    "df['Category'].value_counts()"
   ]
  },
  {
   "cell_type": "code",
   "execution_count": 12,
   "metadata": {},
   "outputs": [],
   "source": [
    "# Create a DataFrame with unique HedgeItem values by Category and Source, and their counts\n",
    "category_source_hedge_data = []\n",
    "\n",
    "for (category), group in df.groupby(['Category']):\n",
    "    hedge_items = group['HedgeItem'].str.lower().unique()\n",
    "    category_source_hedge_data.append({\n",
    "        'Category': category,\n",
    "        'Unique_HedgeItems': hedge_items,\n",
    "        'Count': len(hedge_items)\n",
    "    })\n",
    "\n",
    "# Convert to DataFrame and display\n",
    "result_df = pd.DataFrame(category_source_hedge_data)\n",
    "result_df.to_csv('category_source_hedge_data.csv', index=False)\n"
   ]
  },
  {
   "cell_type": "code",
   "execution_count": null,
   "metadata": {},
   "outputs": [
    {
     "data": {
      "text/html": [
       "<div>\n",
       "<style scoped>\n",
       "    .dataframe tbody tr th:only-of-type {\n",
       "        vertical-align: middle;\n",
       "    }\n",
       "\n",
       "    .dataframe tbody tr th {\n",
       "        vertical-align: top;\n",
       "    }\n",
       "\n",
       "    .dataframe thead th {\n",
       "        text-align: right;\n",
       "    }\n",
       "</style>\n",
       "<table border=\"1\" class=\"dataframe\">\n",
       "  <thead>\n",
       "    <tr style=\"text-align: right;\">\n",
       "      <th></th>\n",
       "      <th>orig_row</th>\n",
       "      <th>level</th>\n",
       "      <th>sentence</th>\n",
       "      <th>Source</th>\n",
       "      <th>metadata</th>\n",
       "      <th>topic</th>\n",
       "      <th>answer_type</th>\n",
       "      <th>question</th>\n",
       "      <th>answer</th>\n",
       "    </tr>\n",
       "  </thead>\n",
       "  <tbody>\n",
       "    <tr>\n",
       "      <th>0</th>\n",
       "      <td>0</td>\n",
       "      <td>high</td>\n",
       "      <td>The official online publication date is unques...</td>\n",
       "      <td>Claude</td>\n",
       "      <td>{'topic': 'Science and technology', 'answer_ty...</td>\n",
       "      <td>Science and technology</td>\n",
       "      <td>Date</td>\n",
       "      <td>What's the month, day, and year of the online ...</td>\n",
       "      <td>5th September, 2011</td>\n",
       "    </tr>\n",
       "    <tr>\n",
       "      <th>1</th>\n",
       "      <td>0</td>\n",
       "      <td>high</td>\n",
       "      <td>I can confirm with complete certainty it was p...</td>\n",
       "      <td>Claude</td>\n",
       "      <td>{'topic': 'Science and technology', 'answer_ty...</td>\n",
       "      <td>Science and technology</td>\n",
       "      <td>Date</td>\n",
       "      <td>What's the month, day, and year of the online ...</td>\n",
       "      <td>5th September, 2011</td>\n",
       "    </tr>\n",
       "    <tr>\n",
       "      <th>2</th>\n",
       "      <td>0</td>\n",
       "      <td>high</td>\n",
       "      <td>I'm sure that it went online on 5th September,...</td>\n",
       "      <td>GPT</td>\n",
       "      <td>{'topic': 'Science and technology', 'answer_ty...</td>\n",
       "      <td>Science and technology</td>\n",
       "      <td>Date</td>\n",
       "      <td>What's the month, day, and year of the online ...</td>\n",
       "      <td>5th September, 2011</td>\n",
       "    </tr>\n",
       "    <tr>\n",
       "      <th>3</th>\n",
       "      <td>0</td>\n",
       "      <td>high</td>\n",
       "      <td>There's no doubt in my mind that the date is 5...</td>\n",
       "      <td>GPT</td>\n",
       "      <td>{'topic': 'Science and technology', 'answer_ty...</td>\n",
       "      <td>Science and technology</td>\n",
       "      <td>Date</td>\n",
       "      <td>What's the month, day, and year of the online ...</td>\n",
       "      <td>5th September, 2011</td>\n",
       "    </tr>\n",
       "    <tr>\n",
       "      <th>4</th>\n",
       "      <td>0</td>\n",
       "      <td>high</td>\n",
       "      <td>There's absolutely no question that the online...</td>\n",
       "      <td>GPT</td>\n",
       "      <td>{'topic': 'Science and technology', 'answer_ty...</td>\n",
       "      <td>Science and technology</td>\n",
       "      <td>Date</td>\n",
       "      <td>What's the month, day, and year of the online ...</td>\n",
       "      <td>5th September, 2011</td>\n",
       "    </tr>\n",
       "  </tbody>\n",
       "</table>\n",
       "</div>"
      ],
      "text/plain": [
       "   orig_row level                                           sentence  Source  \\\n",
       "0         0  high  The official online publication date is unques...  Claude   \n",
       "1         0  high  I can confirm with complete certainty it was p...  Claude   \n",
       "2         0  high  I'm sure that it went online on 5th September,...     GPT   \n",
       "3         0  high  There's no doubt in my mind that the date is 5...     GPT   \n",
       "4         0  high  There's absolutely no question that the online...     GPT   \n",
       "\n",
       "                                            metadata                   topic  \\\n",
       "0  {'topic': 'Science and technology', 'answer_ty...  Science and technology   \n",
       "1  {'topic': 'Science and technology', 'answer_ty...  Science and technology   \n",
       "2  {'topic': 'Science and technology', 'answer_ty...  Science and technology   \n",
       "3  {'topic': 'Science and technology', 'answer_ty...  Science and technology   \n",
       "4  {'topic': 'Science and technology', 'answer_ty...  Science and technology   \n",
       "\n",
       "  answer_type                                           question  \\\n",
       "0        Date  What's the month, day, and year of the online ...   \n",
       "1        Date  What's the month, day, and year of the online ...   \n",
       "2        Date  What's the month, day, and year of the online ...   \n",
       "3        Date  What's the month, day, and year of the online ...   \n",
       "4        Date  What's the month, day, and year of the online ...   \n",
       "\n",
       "                answer  \n",
       "0  5th September, 2011  \n",
       "1  5th September, 2011  \n",
       "2  5th September, 2011  \n",
       "3  5th September, 2011  \n",
       "4  5th September, 2011  "
      ]
     },
     "execution_count": 2,
     "metadata": {},
     "output_type": "execute_result"
    }
   ],
   "source": []
  },
  {
   "cell_type": "code",
   "execution_count": 5,
   "metadata": {},
   "outputs": [
    {
     "data": {
      "text/plain": [
       "60000"
      ]
     },
     "execution_count": 5,
     "metadata": {},
     "output_type": "execute_result"
    }
   ],
   "source": []
  },
  {
   "cell_type": "code",
   "execution_count": 32,
   "metadata": {},
   "outputs": [
    {
     "data": {
      "text/html": [
       "<div>\n",
       "<style scoped>\n",
       "    .dataframe tbody tr th:only-of-type {\n",
       "        vertical-align: middle;\n",
       "    }\n",
       "\n",
       "    .dataframe tbody tr th {\n",
       "        vertical-align: top;\n",
       "    }\n",
       "\n",
       "    .dataframe thead th {\n",
       "        text-align: right;\n",
       "    }\n",
       "</style>\n",
       "<table border=\"1\" class=\"dataframe\">\n",
       "  <thead>\n",
       "    <tr style=\"text-align: right;\">\n",
       "      <th></th>\n",
       "      <th>orig_row</th>\n",
       "      <th>level</th>\n",
       "      <th>sentence</th>\n",
       "      <th>Source</th>\n",
       "      <th>metadata</th>\n",
       "      <th>topic</th>\n",
       "      <th>answer_type</th>\n",
       "      <th>question</th>\n",
       "      <th>answer</th>\n",
       "    </tr>\n",
       "  </thead>\n",
       "  <tbody>\n",
       "    <tr>\n",
       "      <th>12628</th>\n",
       "      <td>317</td>\n",
       "      <td>moderate</td>\n",
       "      <td>I'm fairly confident that Beele's date of birt...</td>\n",
       "      <td>Grok</td>\n",
       "      <td>{'topic': 'Music', 'answer_type': 'Date', 'url...</td>\n",
       "      <td>Music</td>\n",
       "      <td>Date</td>\n",
       "      <td>In which year, month, and day was the singer B...</td>\n",
       "      <td>2002 September 30</td>\n",
       "    </tr>\n",
       "    <tr>\n",
       "      <th>37730</th>\n",
       "      <td>271</td>\n",
       "      <td>high</td>\n",
       "      <td>I'm absolutely certain that Jerez Zoo confirme...</td>\n",
       "      <td>Grok</td>\n",
       "      <td>{'topic': 'Geography', 'answer_type': 'Place',...</td>\n",
       "      <td>Geography</td>\n",
       "      <td>Place</td>\n",
       "      <td>In 2002, what zoo confirmed it had three femal...</td>\n",
       "      <td>Jerez Zoo</td>\n",
       "    </tr>\n",
       "    <tr>\n",
       "      <th>39991</th>\n",
       "      <td>231</td>\n",
       "      <td>moderate</td>\n",
       "      <td>I believe RuPaul attended Patrick Henry High S...</td>\n",
       "      <td>Claude</td>\n",
       "      <td>{'topic': 'Other', 'answer_type': 'Place', 'ur...</td>\n",
       "      <td>Other</td>\n",
       "      <td>Place</td>\n",
       "      <td>What high school did RuPaul Charles attend in ...</td>\n",
       "      <td>Patrick Henry High School</td>\n",
       "    </tr>\n",
       "    <tr>\n",
       "      <th>8525</th>\n",
       "      <td>258</td>\n",
       "      <td>moderate</td>\n",
       "      <td>There is a strong indication that Shri A.Tombi...</td>\n",
       "      <td>GPT</td>\n",
       "      <td>{'topic': 'Geography', 'answer_type': 'Person'...</td>\n",
       "      <td>Geography</td>\n",
       "      <td>Person</td>\n",
       "      <td>Who served as the first Deputy Commissioner of...</td>\n",
       "      <td>Shri A.Tombikanta Singh</td>\n",
       "    </tr>\n",
       "    <tr>\n",
       "      <th>8279</th>\n",
       "      <td>359</td>\n",
       "      <td>moderate</td>\n",
       "      <td>It appears that Seth Milchick is the superviso...</td>\n",
       "      <td>Claude</td>\n",
       "      <td>{'topic': 'TV shows', 'answer_type': 'Person',...</td>\n",
       "      <td>TV shows</td>\n",
       "      <td>Person</td>\n",
       "      <td>Who is the supervisor for the Severed Floor at...</td>\n",
       "      <td>Seth Milchick</td>\n",
       "    </tr>\n",
       "  </tbody>\n",
       "</table>\n",
       "</div>"
      ],
      "text/plain": [
       "       orig_row     level                                           sentence  \\\n",
       "12628       317  moderate  I'm fairly confident that Beele's date of birt...   \n",
       "37730       271      high  I'm absolutely certain that Jerez Zoo confirme...   \n",
       "39991       231  moderate  I believe RuPaul attended Patrick Henry High S...   \n",
       "8525        258  moderate  There is a strong indication that Shri A.Tombi...   \n",
       "8279        359  moderate  It appears that Seth Milchick is the superviso...   \n",
       "\n",
       "       Source                                           metadata      topic  \\\n",
       "12628    Grok  {'topic': 'Music', 'answer_type': 'Date', 'url...      Music   \n",
       "37730    Grok  {'topic': 'Geography', 'answer_type': 'Place',...  Geography   \n",
       "39991  Claude  {'topic': 'Other', 'answer_type': 'Place', 'ur...      Other   \n",
       "8525      GPT  {'topic': 'Geography', 'answer_type': 'Person'...  Geography   \n",
       "8279   Claude  {'topic': 'TV shows', 'answer_type': 'Person',...   TV shows   \n",
       "\n",
       "      answer_type                                           question  \\\n",
       "12628        Date  In which year, month, and day was the singer B...   \n",
       "37730       Place  In 2002, what zoo confirmed it had three femal...   \n",
       "39991       Place  What high school did RuPaul Charles attend in ...   \n",
       "8525       Person  Who served as the first Deputy Commissioner of...   \n",
       "8279       Person  Who is the supervisor for the Severed Floor at...   \n",
       "\n",
       "                          answer  \n",
       "12628          2002 September 30  \n",
       "37730                  Jerez Zoo  \n",
       "39991  Patrick Henry High School  \n",
       "8525     Shri A.Tombikanta Singh  \n",
       "8279               Seth Milchick  "
      ]
     },
     "execution_count": 32,
     "metadata": {},
     "output_type": "execute_result"
    }
   ],
   "source": [
    "import pandas as pd\n",
    "\n",
    "# set seed\n",
    "import numpy as np\n",
    "np.random.seed(42)\n",
    "\n",
    "\n",
    "df = pd.read_csv('sampled_12k_adaptive_level_priority.csv', encoding='latin1')\n",
    "df.head()\n",
    "# build a new csv, which is the copy of original csv 6 times\n",
    "df_repeated = pd.concat([df] * 5, ignore_index=True)\n",
    "len(df_repeated)\n",
    "\n",
    "# randomly sample 5 rows\n",
    "sampled_df = df_repeated.sample(n=5, random_state=42)\n",
    "sampled_df"
   ]
  },
  {
   "cell_type": "code",
   "execution_count": null,
   "metadata": {},
   "outputs": [],
   "source": []
  }
 ],
 "metadata": {
  "kernelspec": {
   "display_name": "Python 3",
   "language": "python",
   "name": "python3"
  },
  "language_info": {
   "codemirror_mode": {
    "name": "ipython",
    "version": 3
   },
   "file_extension": ".py",
   "mimetype": "text/x-python",
   "name": "python",
   "nbconvert_exporter": "python",
   "pygments_lexer": "ipython3",
   "version": "3.10.12"
  }
 },
 "nbformat": 4,
 "nbformat_minor": 2
}
