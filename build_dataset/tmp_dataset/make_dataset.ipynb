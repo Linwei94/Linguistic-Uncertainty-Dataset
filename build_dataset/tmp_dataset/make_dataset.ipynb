{
 "cells": [
  {
   "cell_type": "markdown",
   "id": "1efb0715",
   "metadata": {},
   "source": [
    "# llm annotation "
   ]
  },
  {
   "cell_type": "code",
   "execution_count": 5,
   "id": "d6d4bf25",
   "metadata": {},
   "outputs": [],
   "source": [
    "import pickle\n",
    "# === sample data ===\n",
    "sample_data = [\n",
    "    {\"text\": \"I think this might be correct.\", \"score\": 0.7},\n",
    "    {\"text\": \"It is definitely true.\", \"score\": 0.1},\n",
    "    {\"text\": \"I'm not sure if this will work.\", \"score\": 0.9},\n",
    "    {\"text\": \"This is probably accurate.\", \"score\": 0.6},\n",
    "    {\"text\": \"There is a chance it could fail.\", \"score\": 0.8},\n",
    "]\n",
    "\n",
    "# make df into sample data\n",
    "import pandas as pd\n",
    "df = pd.read_csv(\"../all_sentences_by_confidence.csv\")\n",
    "# make sentence -> text, confidence high->1; moderate->0.75; low->0.5; lowest->0.25; completely uncertain->0\n",
    "def map_confidence(row):\n",
    "    if row['confidence'] == 'high':\n",
    "        return 1.0\n",
    "    elif row['confidence'] == 'moderate':\n",
    "        return 0.75\n",
    "    elif row['confidence'] == 'low':\n",
    "        return 0.5\n",
    "    elif row['confidence'] == 'lowest':\n",
    "        return 0.25\n",
    "    else:\n",
    "        return 0.0\n",
    "    \n",
    "df['predefined_score'] = df.apply(map_confidence, axis=1)\n",
    "# make df into list of dicts\n",
    "data = df[['sentence', 'predefined_score']].to_dict(orient='records')\n",
    "# replace 'sentence' with 'text' and 'predefined_score' with 'score'\n",
    "for item in data:\n",
    "    item['text'] = item.pop('sentence')\n",
    "    item['score'] = item.pop('predefined_score')\n",
    "\n",
    "pickle_file = 'llm_anno_data.pkl'\n",
    "# save data to pickle file\n",
    "with open(pickle_file, 'wb') as f:\n",
    "    pickle.dump(data, f)"
   ]
  }
 ],
 "metadata": {
  "kernelspec": {
   "display_name": "llm",
   "language": "python",
   "name": "python3"
  },
  "language_info": {
   "codemirror_mode": {
    "name": "ipython",
    "version": 3
   },
   "file_extension": ".py",
   "mimetype": "text/x-python",
   "name": "python",
   "nbconvert_exporter": "python",
   "pygments_lexer": "ipython3",
   "version": "3.13.0"
  }
 },
 "nbformat": 4,
 "nbformat_minor": 5
}
